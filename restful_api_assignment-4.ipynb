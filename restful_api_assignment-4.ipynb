{
  "cells": [
    {
      "cell_type": "markdown",
      "metadata": {
        "id": "-dIENJwCHQ5u"
      },
      "source": [
        "            *** RESTFUL API AND FLASK ***"
      ]
    },
    {
      "cell_type": "markdown",
      "metadata": {
        "id": "cN0WQE_YHkPB"
      },
      "source": [
        "    *** THEORETICAL QUESTIONS AND ANSWERS ***"
      ]
    },
    {
      "cell_type": "markdown",
      "metadata": {
        "id": "fMYxCTcHHs7E"
      },
      "source": [
        "Ques 1. What is a RESTful API?\n",
        "\n",
        "Ans 1. A RESTful API is an application programming interface (API) that adheres to the principles of Representational State Transfer (REST). It allows clients to access and manipulate data on a server using standard HTTP methods like GET, POST, PUT, and DELETE. Essentially, it's a standardized way for software systems to communicate and exchange information over the internet."
      ]
    },
    {
      "cell_type": "markdown",
      "metadata": {
        "id": "Vqx_e6ZgH6mt"
      },
      "source": [
        "Ques 2. Explain the concept of API specification?\n",
        "\n",
        "Ans 2. An API specification is a formal document that outlines the elements of an API, acting as a blueprint for its design and development. It details the API's operations, endpoints, input/output formats, and data models, ensuring a clear and consistent contract for developers. API specifications are typically created before the API is built, serving as a guide for developers and helping to prevent ambiguities and inconsistencies."
      ]
    },
    {
      "cell_type": "markdown",
      "metadata": {
        "id": "XzySVOjMIK8T"
      },
      "source": [
        "Ques 3. What is Flask, and why is it popular for building APIs?\n",
        "\n",
        "Ans 3. Flask is a lightweight, flexible Python microframework often used for building RESTful APIs and web applications. Its popularity stems from its simplicity, ease of learning, and ability to be easily extended with third-party libraries. Flask's minimalist approach allows developers to build robust APIs with minimal setup and configuration."
      ]
    },
    {
      "cell_type": "markdown",
      "metadata": {
        "id": "kGLIfkgbIdyv"
      },
      "source": [
        "Ques 4. What is routing in Flask?\n",
        "\n",
        "Ans 4. Routes in Flask are a fundamental concept in the web framework. routes can be described as the designated paths or endpoints in a web application that correspond to specific functions. These functions are responsible for processing requests and returning the appropriate responses.\n",
        "\n",
        "Routes in Flask are defined using the @app.route() decorator, which is applied to a Python function. The decorator takes one mandatory argument: the URL rule or path, and optional arguments such as methods allowed for the route."
      ]
    },
    {
      "cell_type": "markdown",
      "metadata": {
        "id": "1O0h9zQoI3NA"
      },
      "source": [
        "Ques 5. How do you create a simple Flask application?\n",
        "\n",
        "Ans 5. Creating a simple Flask application involves these steps:\n",
        "Install Flask:\n",
        "Open your terminal or command prompt.\n",
        "Run pip install Flask.\n",
        "Create a Python file:\n",
        "Create a new file named app.py (or any preferred name) in your project directory.\n",
        "Write the Flask application code:\n",
        "Import the Flask class from the flask module.\n",
        "Create an instance of the Flask class.\n",
        "Define a route using the @app.route() decorator.\n",
        "Create a function to handle requests to that route.\n",
        "Return a response from the function.\n",
        "Run the application."
      ]
    },
    {
      "cell_type": "markdown",
      "metadata": {
        "id": "K2euNhcUJ1gX"
      },
      "source": [
        "Ques 6. What are HTTP methods used in RESTful APIs?\n",
        "\n",
        "Ans 6. The primary HTTP methods used in RESTful APIs are GET, POST, PUT, PATCH, and DELETE, which map to the core CRUD operations of Create, Read, Update, and Delete. These methods are fundamental for interacting with resources in a RESTful API."
      ]
    },
    {
      "cell_type": "markdown",
      "metadata": {
        "id": "ZuZfasWBKBen"
      },
      "source": [
        "Ques 7. What is the purpose of the @app.route() decorator in Flask?\n",
        "\n",
        "Ans 7. By having app. route as decorator, the function index is registered for the route / so that when that route is requested, index is called and its result “Hello world” is returned back to the client (be it a web browser, curl, etc)."
      ]
    },
    {
      "cell_type": "markdown",
      "metadata": {
        "id": "MA4bvVwrKS9E"
      },
      "source": [
        "Ques 8. What is the difference between GET and POST HTTP methods?\n",
        "\n",
        "Ans 8. The primary difference between HTTP GET and POST lies in their intended use: GET is used to request data from a server, while POST is used to send data to a server for processing, often to create or update resources. GET retrieves data without altering the server's state, while POST can modify or update data on the server."
      ]
    },
    {
      "cell_type": "markdown",
      "metadata": {
        "id": "g-iC7jwWKiH2"
      },
      "source": [
        "Ques 9. How do you handle errors in Flask APIs?\n",
        "\n",
        "Ans 9. This can be done by registering error handlers. When Flask catches an exception while handling a request, it is first looked up by code. If no handler is registered for the code, Flask looks up the error by its class hierarchy; the most specific handler is chosen."
      ]
    },
    {
      "cell_type": "markdown",
      "metadata": {
        "id": "JDfVUlgJK7Cs"
      },
      "source": [
        "Ques 10. How do you connect Flask to a SQL database?\n",
        "\n",
        "Ans 10. To create a database we need to import SQLAlchemy in app.py, set up SQLite configuration, and create a database instance as shown below. We set up Flask, connect it to a SQLite database (site. db), and use db. create_all() to create the database when the app runs."
      ]
    },
    {
      "cell_type": "markdown",
      "metadata": {
        "id": "PsAf7otxSO4a"
      },
      "source": [
        "Ques 11. What is the role of Flask-SQLAlchemy?\n",
        "\n",
        "Ans 11. Flask-SQLAlchemy is a Flask extension that makes using SQLAlchemy with Flask easier, providing you tools and methods to interact with your database in your Flask applications through SQLAlchemy. In this tutorial, you'll build a small student management system that demonstrates how to use the Flask-SQLAlchemy extension."
      ]
    },
    {
      "cell_type": "markdown",
      "metadata": {
        "id": "XrPENmAsSiTH"
      },
      "source": [
        "Ques 12. What are Flask blueprints, and how are they useful?\n",
        "\n",
        "Ans 12. Each Flask Blueprint is an object that works very similarly to a Flask application. They both can have resources, such as static files, templates, and views that are associated with routes. However, a Flask Blueprint is not actually an application. It needs to be registered in an application before you can run it."
      ]
    },
    {
      "cell_type": "markdown",
      "metadata": {
        "id": "fEpVlNSuSymP"
      },
      "source": [
        "Ques 13. What is the purpose of Flask's request object?\n",
        "\n",
        "Ans 13. The Flask Request Object is used to perform both sending and receiving operations from a user's browser to the server and process the request data from the server. It should be imported from the flask module."
      ]
    },
    {
      "cell_type": "markdown",
      "metadata": {
        "id": "0zrkvNi7S9qy"
      },
      "source": [
        "Ques 14. How do you create a RESTful API endpoint using Flask?\n",
        "\n",
        "Ans 14. Creating a RESTful API endpoint using Flask involves defining routes and HTTP methods to handle requests.\n",
        "Import Flask: Begin by importing the Flask class from the flask library.\n",
        "Python\n",
        "\n",
        "    from flask import Flask, request, jsonify\n",
        "Create a Flask App: Instantiate the Flask application.\n",
        "Python\n",
        "\n",
        "    app = Flask(__name__)\n",
        "Define Routes: Use the @app.route decorator to specify the URL endpoint and allowed HTTP methods.\n",
        "Python\n",
        "\n",
        "    @app.route('/items', methods=['GET', 'POST'])\n",
        "    def handle_items():\n",
        "        if request.method == 'GET':\n",
        "            # Logic to retrieve and return all items\n",
        "            return jsonify({'message': 'List of items'})\n",
        "        elif request.method == 'POST':\n",
        "            # Logic to create a new item\n",
        "            data = request.get_json()\n",
        "            return jsonify({'message': 'Item created', 'data': data}), 201\n",
        "    \n",
        "    @app.route('/items/<int:item_id>', methods=['GET', 'PUT', 'DELETE'])\n",
        "    def handle_item(item_id):\n",
        "      if request.method == 'GET':\n",
        "          # Logic to retrieve and return a specific item\n",
        "          return jsonify({'message': f'Item {item_id} details'})\n",
        "      elif request.method == 'PUT':\n",
        "          # Logic to update a specific item\n",
        "          data = request.get_json()\n",
        "          return jsonify({'message': f'Item {item_id} updated', 'data': data})\n",
        "      elif request.method == 'DELETE':\n",
        "          # Logic to delete a specific item\n",
        "          return jsonify({'message': f'Item {item_id} deleted'})\n",
        "Handle Requests: Implement the logic for each HTTP method within the route functions. Use the request object to access request data and jsonify to return JSON responses.\n",
        "Run the App: Start the Flask development server.\n",
        "Python\n",
        "\n",
        "    if __name__ == '__main__':\n",
        "        app.run(debug=True)\n",
        "        \n",
        "Testing: Use tools like curl or Postman to send requests to your API endpoints and verify the responses."
      ]
    },
    {
      "cell_type": "markdown",
      "metadata": {
        "id": "pVzo05L4TZQo"
      },
      "source": [
        "Ques 15. What is the purpose of Flask's jsonify() function?\n",
        "\n",
        "Ans 15. Flask's jsonify() function converts Python objects, typically dictionaries, into JSON-formatted responses. It also sets the appropriate Content-Type header to application/json. This simplifies the process of creating JSON responses in Flask by handling the necessary serialization and header setting."
      ]
    },
    {
      "cell_type": "markdown",
      "metadata": {
        "id": "dkWOvoUYTsU5"
      },
      "source": [
        "Ques 16. Explain Flask’s url_for() function?\n",
        "\n",
        "Ans 16. The url_for() function in Flask is used to generate URLs for a specific function. It accepts the name of the function as its first argument, and any number of keyword arguments, each corresponding to a variable part of the URL rule."
      ]
    },
    {
      "cell_type": "markdown",
      "metadata": {
        "id": "9CC0QiciT2bd"
      },
      "source": [
        "Ques 17. How does Flask handle static files (CSS, JavaScript, etc.)?\n",
        "\n",
        "Ans 17. In Flask, static files refer to files such as CSS, JavaScript, images, videos, and audio files that do not change dynamically. Flask provides a built-in way to serve these static files using the /static directory."
      ]
    },
    {
      "cell_type": "markdown",
      "metadata": {
        "id": "pavLdC2JUBxv"
      },
      "source": [
        "Ques 18. What is an API specification, and how does it help in building a Flask API?\n",
        "\n",
        "Ans 18. An API specification is a formal document that outlines the details of an API, including its behavior, operations, data models, and how it interacts with other systems. It's a blueprint for developers to use when building an API, ensuring a consistent and predictable interface.\n",
        "\n",
        "There are two ways of creating a REST API in Flask:\n",
        "\n",
        "Using Flask without any external libraries\n",
        "Using flask_restful library\n",
        "Libraries required:\n",
        "flask_restful can be installed via the pip command\n",
        "\n",
        "Method 1: using only Flask\n",
        "Here, there are two functions: One function to just return or print the data sent through GET or POST and another function to calculate the square of a number sent through GET request and print it.\n",
        "\n",
        "\n",
        "Method 2: Using flask-restful\n",
        "Flask Restful is an extension for Flask that adds support for building REST APIs in Python using Flask as the back-end. It encourages best practices and is very easy to set up. Flask restful is very easy to pick up if you’re already familiar with flask.\n",
        "\n",
        "In flask_restful, the main building block is a resource. Each resource can have several methods associated with it such as GET, POST, PUT, DELETE, etc. for example, there could be a resource that calculates the square of a number whenever a get request is sent to it. Each resource is a class that inherits from the Resource class of flask_restful. Once the resource is created and defined, we can add our custom resource to the api and specify a URL path for that corresponding resource."
      ]
    },
    {
      "cell_type": "markdown",
      "metadata": {
        "id": "DUq0i5_HUd97"
      },
      "source": [
        "Ques 19. What are HTTP status codes, and why are they important in a Flask API?\n",
        "\n",
        "Ans 19. HTTP status codes are three-digit codes that indicate the outcome of an API request. They are included in the API's response to the API client, and they include important information that helps the client know how to proceed."
      ]
    },
    {
      "cell_type": "markdown",
      "metadata": {
        "id": "RngXi7seUtRc"
      },
      "source": [
        "Ques 20. How do you handle POST requests in Flask?\n",
        "\n",
        "Ans 20. To handle both GET and POST requests, we add that in the decorator app. route() method. Whatever request you want, you cahnge it in the decorator. Enter the following script in the Python shell."
      ]
    },
    {
      "cell_type": "markdown",
      "metadata": {
        "id": "jO7sBFTfU--1"
      },
      "source": [
        "Ques 21. How would you secure a Flask AP?\n",
        "\n",
        "Ans 21. Basic security practices are fundamental for Flask, such as employing strong cryptographic hashes for password storage, implementing protections against Cross-Site Request Forgery (CSRF) and Cross-Origin Resource Sharing (CORS), and protecting against SQL injection attacks."
      ]
    },
    {
      "cell_type": "markdown",
      "metadata": {
        "id": "ghtxzYp6VViu"
      },
      "source": [
        "Ques 22. What is the significance of the Flask-RESTful extension?\n",
        "\n",
        "Ans 22. The Flask-RESTful extension is a crucial tool for simplifying the development of RESTful APIs using the Flask framework. It provides a streamlined way to define API endpoints, manage HTTP methods, and handle request parsing, making it easier and more efficient to build RESTful web services in Python."
      ]
    },
    {
      "cell_type": "markdown",
      "metadata": {
        "id": "i6RNvpIEViWQ"
      },
      "source": [
        "Ques 23. What is the role of Flask’s session object?\n",
        "\n",
        "Ans 23. In Flask, the session object provides a way to store user-specific data across multiple HTTP requests, effectively allowing for persistent information between requests. It's like a dictionary that stores data related to a user's interaction with the application, according to the Flask documentation."
      ]
    },
    {
      "cell_type": "markdown",
      "metadata": {
        "id": "r8AQAB8m1V2g"
      },
      "source": [
        "          **** PRACTICAL QUESTIONS AND ANSWERS ****"
      ]
    },
    {
      "cell_type": "code",
      "execution_count": null,
      "metadata": {
        "colab": {
          "base_uri": "https://localhost:8080/"
        },
        "id": "hCNNlM_C1s0g",
        "outputId": "77bad0f2-b981-4250-b2be-fe8efbe1a3e2"
      },
      "outputs": [
        {
          "name": "stdout",
          "output_type": "stream",
          "text": [
            " * Serving Flask app '__main__'\n",
            " * Debug mode: off\n"
          ]
        },
        {
          "name": "stderr",
          "output_type": "stream",
          "text": [
            "INFO:werkzeug:\u001b[31m\u001b[1mWARNING: This is a development server. Do not use it in a production deployment. Use a production WSGI server instead.\u001b[0m\n",
            " * Running on all addresses (0.0.0.0)\n",
            " * Running on http://127.0.0.1:5000\n",
            " * Running on http://172.28.0.12:5000\n",
            "INFO:werkzeug:\u001b[33mPress CTRL+C to quit\u001b[0m\n"
          ]
        }
      ],
      "source": [
        "# Ques 1.\n",
        "\n",
        "# Solution 1.\n",
        "\n",
        "from flask import Flask\n",
        "\n",
        "app = Flask(__name__)\n",
        "\n",
        "@app.route('/')\n",
        "def hello_world():\n",
        "    return 'Welcome to Kavita gogoi podcast!!'\n",
        "\n",
        "if __name__ == '__main__':\n",
        "    app.run(host=\"0.0.0.0\")"
      ]
    },
    {
      "cell_type": "code",
      "execution_count": null,
      "metadata": {
        "colab": {
          "base_uri": "https://localhost:8080/"
        },
        "id": "d_WLIwjx2gOA",
        "outputId": "927170bd-01dc-4ce0-e26f-83d9764e3087"
      },
      "outputs": [
        {
          "name": "stdout",
          "output_type": "stream",
          "text": [
            " * Serving Flask app '__main__'\n",
            " * Debug mode: on\n"
          ]
        },
        {
          "name": "stderr",
          "output_type": "stream",
          "text": [
            "INFO:werkzeug:\u001b[31m\u001b[1mWARNING: This is a development server. Do not use it in a production deployment. Use a production WSGI server instead.\u001b[0m\n",
            " * Running on http://127.0.0.1:5000\n",
            "INFO:werkzeug:\u001b[33mPress CTRL+C to quit\u001b[0m\n",
            "INFO:werkzeug: * Restarting with stat\n"
          ]
        }
      ],
      "source": [
        "# Ques 2. # Ques 2. How do you serve static files like images or CSS in Flask?\n",
        "\n",
        "# Solution\n",
        "\n",
        "from flask import Flask, render_template\n",
        "\n",
        "app = Flask(__name__)\n",
        "\n",
        "@app.route(\"/\")\n",
        "def index():\n",
        "    message = \"Hello world\"\n",
        "    return render_template(\"index.html\",message=message)\n",
        "\n",
        "if __name__ == \"__main__\":\n",
        "    app.run(host=\"0.0.0.0\")"
      ]
    },
    {
      "cell_type": "markdown",
      "metadata": {
        "id": "Fxu8-I6TpC_P"
      },
      "source": [
        "templates\n",
        "\n",
        "1. index.html\n",
        "\n",
        "<html>\n",
        " <head>\n",
        "   <title>Flask Static Demo</title>\n",
        " </head>\n",
        " <body>\n",
        "   <h1>{{message}}</h1>\n",
        " </body>\n",
        "</html>"
      ]
    },
    {
      "cell_type": "code",
      "execution_count": null,
      "metadata": {
        "colab": {
          "base_uri": "https://localhost:8080/"
        },
        "id": "c13KNiNm238L",
        "outputId": "51e09331-0171-4959-b2e0-1bd10532f4b8"
      },
      "outputs": [
        {
          "name": "stdout",
          "output_type": "stream",
          "text": [
            " * Serving Flask app '__main__'\n",
            " * Debug mode: off\n"
          ]
        },
        {
          "name": "stderr",
          "output_type": "stream",
          "text": [
            "INFO:werkzeug:\u001b[31m\u001b[1mWARNING: This is a development server. Do not use it in a production deployment. Use a production WSGI server instead.\u001b[0m\n",
            " * Running on http://127.0.0.1:5000\n",
            "INFO:werkzeug:\u001b[33mPress CTRL+C to quit\u001b[0m\n"
          ]
        }
      ],
      "source": [
        "# Ques 3. How do you define different routes with different HTTP methods in Flask?\n",
        "\n",
        "# Solution 3.\n",
        "\n",
        "from flask import Flask, render_template, request, redirect, session\n",
        "\n",
        "app = Flask(__name__)\n",
        "\n",
        "\n",
        "app.secret_key = 'my_secret_key'\n",
        "\n",
        "\n",
        "users = {\n",
        "    'kunal': '1234',\n",
        "    'user2': 'password2'\n",
        "}\n",
        "\n",
        "@app.route('/')\n",
        "def view_form():\n",
        "    return render_template('login.html')\n",
        "\n",
        "@app.route('/handle_get', methods=['GET'])\n",
        "def handle_get():\n",
        "    if request.method == 'GET':\n",
        "        username = request.args['username']\n",
        "        password = request.args['password']\n",
        "        print(username, password)\n",
        "        if username in users and users[username] == password:\n",
        "            return '<h1>Welcome!!!</h1>'\n",
        "        else:\n",
        "            return '<h1>invalid credentials!</h1>'\n",
        "    else:\n",
        "        return render_template('login.html')\n",
        "\n",
        "\n",
        "@app.route('/handle_post', methods=['POST'])\n",
        "def handle_post():\n",
        "    if request.method == 'POST':\n",
        "        username = request.form['username']\n",
        "        password = request.form['password']\n",
        "        print(username, password)\n",
        "        if username in users and users[username] == password:\n",
        "            return '<h1>Welcome!!!</h1>'\n",
        "        else:\n",
        "            return '<h1>invalid credentials!</h1>'\n",
        "    else:\n",
        "        return render_template('login.html')\n",
        "\n",
        "if __name__ == '__main__':\n",
        "    app.run(host=\"0.0.0.0\")"
      ]
    },
    {
      "cell_type": "markdown",
      "metadata": {
        "id": "RGjY8tXNpPFi"
      },
      "source": [
        "templates\n",
        "\n",
        "1. login.html\n",
        "\n",
        "<!-- templates/login.html-->\n",
        "\n",
        "<html>\n",
        "\n",
        "<head>\n",
        "    <title>Handling of http get and post request</title>\n",
        "    <style>\n",
        "        div {\n",
        "            width: 400px;\n",
        "            border: 1px solid green;\n",
        "            padding: 10px;\n",
        "            margin-bottom: 5px;\n",
        "        }\n",
        "    </style>\n",
        "</head>\n",
        "\n",
        "<body>\n",
        "\n",
        "    <div>\n",
        "<!-- url_for will route the forms request to\n",
        "appropriate function that user made to handle it.-->\n",
        "<!--we will Retrieve submitted values of inputs\n",
        "on the backend side using 'name' field of form.-->\n",
        "        <h1>Handle GET Request</h1>\n",
        "        <form method=\"GET\"\n",
        "              action=\"{{ url_for('handle_get') }}\">\n",
        "            <input type=\"text\"\n",
        "                   name=\"username\"\n",
        "                   placeholder=\"Username\">\n",
        "            <input type=\"password\"\n",
        "                   name=\"password\"\n",
        "                   placeholder=\"Password\">\n",
        "            <button type=\"submit\">submit</button>\n",
        "        </form>\n",
        "    </div>\n",
        "\n",
        "    <div>\n",
        "        <h1>Handle POST Request</h1>\n",
        "        <form method=\"POST\"\n",
        "              action=\"{{ url_for('handle_post') }}\">\n",
        "            <input type=\"text\"\n",
        "                   name=\"username\"\n",
        "                   placeholder=\"Username\">\n",
        "            <input type=\"password\"\n",
        "                   name=\"password\"\n",
        "                   placeholder=\"Password\">\n",
        "            <button type=\"submit\">submit</button>\n",
        "        </form>\n",
        "    </div>\n",
        "</body>\n",
        "\n",
        "</html>"
      ]
    },
    {
      "cell_type": "code",
      "execution_count": null,
      "metadata": {
        "colab": {
          "base_uri": "https://localhost:8080/"
        },
        "id": "PSL_dNVf3XrG",
        "outputId": "4a08d8a3-b904-4b4a-dced-fa3eedb75fd0"
      },
      "outputs": [
        {
          "name": "stdout",
          "output_type": "stream",
          "text": [
            " * Serving Flask app '__main__'\n",
            " * Debug mode: off\n"
          ]
        },
        {
          "name": "stderr",
          "output_type": "stream",
          "text": [
            "INFO:werkzeug:\u001b[31m\u001b[1mWARNING: This is a development server. Do not use it in a production deployment. Use a production WSGI server instead.\u001b[0m\n",
            " * Running on all addresses (0.0.0.0)\n",
            " * Running on http://127.0.0.1:5000\n",
            " * Running on http://172.28.0.12:5000\n",
            "INFO:werkzeug:\u001b[33mPress CTRL+C to quit\u001b[0m\n"
          ]
        }
      ],
      "source": [
        "# Ques 4. How do you render HTML templates in Flask?\n",
        "\n",
        "# Solution 4.\n",
        "\n",
        "from flask import Flask, render_template\n",
        "\n",
        "app = Flask(__name__)\n",
        "\n",
        "@app.route(\"/\")\n",
        "def index():\n",
        "    return render_template(\"index2.html\")\n",
        "\n",
        "if __name__ == \"__main__\":\n",
        "    app.run(host=\"0.0.0.0\")"
      ]
    },
    {
      "cell_type": "markdown",
      "metadata": {
        "id": "aqrDbgYPpXYb"
      },
      "source": [
        "templates\n",
        "\n",
        "1. index2.html\n",
        "\n",
        "<!DOCTYPE html>\n",
        "<html>\n",
        "<head>\n",
        "    <title>Flask App</title>\n",
        "</head>\n",
        "<body>\n",
        "    <h2>Welcome to kavita's world</h2>\n",
        "    <p>This is a very exciting horror podcast ever in India.</p>\n",
        "</body>\n",
        "</html>"
      ]
    },
    {
      "cell_type": "code",
      "execution_count": null,
      "metadata": {
        "colab": {
          "base_uri": "https://localhost:8080/"
        },
        "id": "3uOfxm003hD6",
        "outputId": "e67e51cf-618b-4305-b1dd-9cd4704e6d78"
      },
      "outputs": [
        {
          "name": "stdout",
          "output_type": "stream",
          "text": [
            " * Serving Flask app '__main__'\n",
            " * Debug mode: on\n"
          ]
        },
        {
          "name": "stderr",
          "output_type": "stream",
          "text": [
            "INFO:werkzeug:\u001b[31m\u001b[1mWARNING: This is a development server. Do not use it in a production deployment. Use a production WSGI server instead.\u001b[0m\n",
            " * Running on http://127.0.0.1:5000\n",
            "INFO:werkzeug:\u001b[33mPress CTRL+C to quit\u001b[0m\n",
            "INFO:werkzeug: * Restarting with stat\n"
          ]
        }
      ],
      "source": [
        "# Ques 5. How can you generate URLs for routes in Flask using url_for?\n",
        "\n",
        "# Solution 5.\n",
        "\n",
        "from flask import Flask, url_for, redirect\n",
        "\n",
        "app = Flask(__name__)\n",
        "\n",
        "@app.route(\"/\")\n",
        "def welcome():\n",
        "    return \"welcome to kavitagogoipodcast!\"\n",
        "\n",
        "@app.route(\"/student\")\n",
        "def student():\n",
        "    return \"welcome students to kavita's podcast!\"\n",
        "@app.route(\"/faculty\")\n",
        "def faculty():\n",
        "    return \"welcome faculty to kavita's podcast\"\n",
        "\n",
        "@app.route(\"/user/<name>\")\n",
        "def user(name):\n",
        "    if name==\"student\":\n",
        "        return redirect(url_for(\"student\"))\n",
        "    if name==\"faculty\":\n",
        "        return redirect(url_for(\"faculty\"))\n",
        "\n",
        "app.run(debug=True)"
      ]
    },
    {
      "cell_type": "code",
      "execution_count": null,
      "metadata": {
        "colab": {
          "base_uri": "https://localhost:8080/"
        },
        "id": "aOwVttLA3lbt",
        "outputId": "a77b5f48-1deb-471c-ef6b-6a4b01ad79c7"
      },
      "outputs": [
        {
          "name": "stdout",
          "output_type": "stream",
          "text": [
            " * Serving Flask app '__main__'\n",
            " * Debug mode: on\n"
          ]
        },
        {
          "name": "stderr",
          "output_type": "stream",
          "text": [
            "INFO:werkzeug:\u001b[31m\u001b[1mWARNING: This is a development server. Do not use it in a production deployment. Use a production WSGI server instead.\u001b[0m\n",
            " * Running on http://127.0.0.1:5000\n",
            "INFO:werkzeug:\u001b[33mPress CTRL+C to quit\u001b[0m\n",
            "INFO:werkzeug: * Restarting with stat\n"
          ]
        }
      ],
      "source": [
        "# Ques 6. How do you handle forms in Flask?\n",
        "\n",
        "# Solution 6.\n",
        "\n",
        "from flask import Flask, render_template, request\n",
        "app = Flask(__name__)\n",
        "\n",
        "@app.route(\"/\")\n",
        "def index():\n",
        "    return render_template(\"form.html\")\n",
        "\n",
        "@app.route(\"/submit\", methods=[\"POST\"])\n",
        "def submit():\n",
        "    username = request.form[\"username\"]\n",
        "    email = request.form[\"email\"]\n",
        "    return f\"Hello, {username}! Your email is {email}\"\n",
        "\n",
        "if __name__ == '__main__':\n",
        "    app.run(debug=True)"
      ]
    },
    {
      "cell_type": "markdown",
      "metadata": {
        "id": "VyKrREdhpsYq"
      },
      "source": [
        "templates\n",
        "\n",
        "1. form.html\n",
        "\n",
        "<!DOCTYPE html>\n",
        "<html lang=\"en\">\n",
        "<head>\n",
        "    <meta charset=\"UTF-8\">\n",
        "    <title> Form Data in Flask </title>\n",
        "</head>\n",
        "<body>\n",
        "    <h1>Submit your data</h1>\n",
        "    <form action=\"/submit\" method=\"post\">\n",
        "        <label>\n",
        "            Username:\n",
        "            <input type=\"text\" id=\"username\" name=\"username\">\n",
        "        </label>\n",
        "        <br>\n",
        "        <label>\n",
        "            Email:\n",
        "            <input type=\"email\" id=\"email\" name=\"email\">\n",
        "        </label>\n",
        "        <br>\n",
        "        <input type=\"submit\" value=\"submit\">\n",
        "    </form>\n",
        "</body>\n",
        "</html>\n",
        "\n"
      ]
    },
    {
      "cell_type": "code",
      "execution_count": null,
      "metadata": {
        "colab": {
          "background_save": true,
          "base_uri": "https://localhost:8080/"
        },
        "id": "su5Bi-En3t3h",
        "outputId": "4f9b93c6-9bc1-469b-aad4-eea08cb0236e"
      },
      "outputs": [
        {
          "name": "stdout",
          "output_type": "stream",
          "text": [
            "Requirement already satisfied: flask_wtf in /usr/local/lib/python3.11/dist-packages (1.2.2)\n",
            "Requirement already satisfied: flask in /usr/local/lib/python3.11/dist-packages (from flask_wtf) (3.1.0)\n",
            "Requirement already satisfied: itsdangerous in /usr/local/lib/python3.11/dist-packages (from flask_wtf) (2.2.0)\n",
            "Requirement already satisfied: wtforms in /usr/local/lib/python3.11/dist-packages (from flask_wtf) (3.2.1)\n",
            "Requirement already satisfied: Werkzeug>=3.1 in /usr/local/lib/python3.11/dist-packages (from flask->flask_wtf) (3.1.3)\n",
            "Requirement already satisfied: Jinja2>=3.1.2 in /usr/local/lib/python3.11/dist-packages (from flask->flask_wtf) (3.1.6)\n",
            "Requirement already satisfied: click>=8.1.3 in /usr/local/lib/python3.11/dist-packages (from flask->flask_wtf) (8.1.8)\n",
            "Requirement already satisfied: blinker>=1.9 in /usr/local/lib/python3.11/dist-packages (from flask->flask_wtf) (1.9.0)\n",
            "Requirement already satisfied: markupsafe in /usr/local/lib/python3.11/dist-packages (from wtforms->flask_wtf) (3.0.2)\n",
            "Requirement already satisfied: wtforms in /usr/local/lib/python3.11/dist-packages (3.2.1)\n",
            "Requirement already satisfied: markupsafe in /usr/local/lib/python3.11/dist-packages (from wtforms) (3.0.2)\n",
            "Requirement already satisfied: wtforms.validators in /usr/local/lib/python3.11/dist-packages (1.0.0)\n",
            "Requirement already satisfied: WTForms in /usr/local/lib/python3.11/dist-packages (from wtforms.validators) (3.2.1)\n",
            "Requirement already satisfied: dnspython in /usr/local/lib/python3.11/dist-packages (from wtforms.validators) (2.7.0)\n",
            "Requirement already satisfied: is-disposable-email in /usr/local/lib/python3.11/dist-packages (from wtforms.validators) (1.0.0)\n",
            "Requirement already satisfied: markupsafe in /usr/local/lib/python3.11/dist-packages (from WTForms->wtforms.validators) (3.0.2)\n",
            "\u001b[31mERROR: Could not find a version that satisfies the requirement forms (from versions: none)\u001b[0m\u001b[31m\n",
            "\u001b[0m\u001b[31mERROR: No matching distribution found for forms\u001b[0m\u001b[31m\n",
            "\u001b[0m * Serving Flask app '__main__'\n",
            " * Debug mode: on\n"
          ]
        },
        {
          "name": "stderr",
          "output_type": "stream",
          "text": [
            "INFO:werkzeug:\u001b[31m\u001b[1mWARNING: This is a development server. Do not use it in a production deployment. Use a production WSGI server instead.\u001b[0m\n",
            " * Running on http://127.0.0.1:5000\n",
            "INFO:werkzeug:\u001b[33mPress CTRL+C to quit\u001b[0m\n",
            "INFO:werkzeug: * Restarting with stat\n"
          ]
        }
      ],
      "source": [
        "# Ques 7. How can you validate form data in Flask?\n",
        "\n",
        "# Solution 7.\n",
        "\n",
        "#forms.py\n",
        "\n",
        "!pip install flask_wtf\n",
        "!pip install wtforms\n",
        "!pip install wtforms.validators\n",
        "!pip install forms\n",
        "\n",
        "\n",
        "from flask_wtf import FlaskForm\n",
        "from wtforms import (StringField, TextAreaField, IntegerField, BooleanField,\n",
        "                     RadioField)\n",
        "from wtforms.validators import InputRequired, Length\n",
        "\n",
        "class CourseForm(FlaskForm):\n",
        "    title = StringField('Title', validators=[InputRequired(),\n",
        "                                             Length(min=10, max=100)])\n",
        "    description = TextAreaField('Course Description',\n",
        "                                validators=[InputRequired(),\n",
        "                                            Length(max=200)])\n",
        "    price = IntegerField('Price', validators=[InputRequired()])\n",
        "    level = RadioField('Level',\n",
        "                       choices=['Beginner', 'Intermediate', 'Advanced'],\n",
        "                       validators=[InputRequired()])\n",
        "    available = BooleanField('Available', default='checked')\n",
        "\n",
        "\n",
        "#apps.py\n",
        "\n",
        "from flask import Flask, render_template, redirect, url_for\n",
        "\n",
        "\n",
        "app = Flask(__name__)\n",
        "app.config['SECRET_KEY'] = 'your secret key'\n",
        "\n",
        "\n",
        "courses_list = [{\n",
        "    'title': 'Python 101',\n",
        "    'description': 'Learn Python basics',\n",
        "    'price': 34,\n",
        "    'available': True,\n",
        "    'level': 'Beginner'\n",
        "    }]\n",
        "\n",
        "\n",
        "@app.route('/', methods=('GET', 'POST'))\n",
        "def index():\n",
        "    form = CourseForm()\n",
        "    return render_template('index.html', form=form)\n",
        "\n",
        "if __name__ == '__main__':\n",
        "    app.run(debug=True)"
      ]
    },
    {
      "cell_type": "markdown",
      "metadata": {
        "id": "OZ1Y6LWikapo"
      },
      "source": [
        "Templates\n",
        "\n",
        "1. base.html\n",
        "\n",
        "<!DOCTYPE html>\n",
        "<html lang=\"en\">\n",
        "<head>\n",
        "    <meta charset=\"UTF-8\">\n",
        "    <title>{% block title %} {% endblock %} - FlaskApp</title>\n",
        "    <style>\n",
        "        nav a {\n",
        "            color: #d64161;\n",
        "            font-size: 3em;\n",
        "            margin-left: 50px;\n",
        "            text-decoration: none;\n",
        "        }\n",
        "    </style>\n",
        "</head>\n",
        "<body>\n",
        "    <nav>\n",
        "        <a href=\"{{ url_for('index') }}\">FlaskApp</a>\n",
        "        <a href=\"#\">About</a>\n",
        "    </nav>\n",
        "    <hr>\n",
        "    <div class=\"content\">\n",
        "        {% block content %} {% endblock %}\n",
        "    </div>\n",
        "</body>\n",
        "</html>\n",
        "\n",
        "2. index.html\n",
        "\n",
        "{% extends 'base.html' %}\n",
        "\n",
        "{% block content %}\n",
        "    <h1>{% block title %} Add a New Course {% endblock %}</h1>\n",
        "\n",
        "    <form method=\"POST\" action=\"/\">\n",
        "        {{ form.csrf_token }}\n",
        "        <p>\n",
        "            {{ form.title.label }}\n",
        "            {{ form.title(size=20) }}\n",
        "        </p>\n",
        "\n",
        "        {% if form.title.errors %}\n",
        "            <ul class=\"errors\">\n",
        "                {% for error in form.title.errors %}\n",
        "                    <li>{{ error }}</li>\n",
        "                {% endfor %}\n",
        "            </ul>\n",
        "        {% endif %}\n",
        "\n",
        "        <p>\n",
        "            {{ form.description.label }}\n",
        "        </p>\n",
        "        {{ form.description(rows=10, cols=50) }}\n",
        "\n",
        "        {% if form.description.errors %}\n",
        "            <ul class=\"errors\">\n",
        "                {% for error in form.description.errors %}\n",
        "                    <li>{{ error }}</li>\n",
        "                {% endfor %}\n",
        "            </ul>\n",
        "        {% endif %}\n",
        "\n",
        "        <p>\n",
        "            {{ form.price.label }}\n",
        "            {{ form.price() }}\n",
        "        </p>\n",
        "\n",
        "        {% if form.price.errors %}\n",
        "            <ul class=\"errors\">\n",
        "                {% for error in form.price.errors %}\n",
        "                    <li>{{ error }}</li>\n",
        "                {% endfor %}\n",
        "            </ul>\n",
        "        {% endif %}\n",
        "\n",
        "        <p>\n",
        "            {{ form.available() }} {{ form.available.label }}\n",
        "        </p>\n",
        "\n",
        "        {% if form.available.errors %}\n",
        "            <ul class=\"errors\">\n",
        "                {% for error in form.available.errors %}\n",
        "                    <li>{{ error }}</li>\n",
        "                {% endfor %}\n",
        "            </ul>\n",
        "        {% endif %}\n",
        "\n",
        "        <p>\n",
        "            {{ form.level.label }}\n",
        "            {{ form.level() }}\n",
        "        </p>\n",
        "\n",
        "        {% if form.level.errors %}\n",
        "            <ul class=\"errors\">\n",
        "                {% for error in form.level.errors %}\n",
        "                    <li>{{ error }}</li>\n",
        "                {% endfor %}\n",
        "            </ul>\n",
        "        {% endif %}\n",
        "\n",
        "        <p>\n",
        "            <input type=\"submit\" value=\"Add\">\n",
        "        </p>\n",
        "    </form>\n",
        "\n",
        "{% endblock %}"
      ]
    },
    {
      "cell_type": "code",
      "execution_count": null,
      "metadata": {
        "colab": {
          "base_uri": "https://localhost:8080/"
        },
        "id": "nxgDQVU73pbr",
        "outputId": "98f7284d-213d-420d-9e0c-8ddc77ea8c81"
      },
      "outputs": [
        {
          "name": "stdout",
          "output_type": "stream",
          "text": [
            " * Serving Flask app '__main__'\n",
            " * Debug mode: on\n"
          ]
        },
        {
          "name": "stderr",
          "output_type": "stream",
          "text": [
            "INFO:werkzeug:\u001b[31m\u001b[1mWARNING: This is a development server. Do not use it in a production deployment. Use a production WSGI server instead.\u001b[0m\n",
            " * Running on http://127.0.0.1:5000\n",
            "INFO:werkzeug:\u001b[33mPress CTRL+C to quit\u001b[0m\n",
            "INFO:werkzeug: * Restarting with stat\n"
          ]
        }
      ],
      "source": [
        "# Ques 8. How do you manage sessions in Flask?\n",
        "\n",
        "# Solution.\n",
        "\n",
        "from flask import Flask, render_template_string, request, session, redirect, url_for\n",
        "\n",
        "from datetime import timedelta\n",
        "\n",
        "app = Flask(__name__)\n",
        "app.secret_key = \"mysecretkey\"  # Replace with a strong, randomly generated key\n",
        "app.permanent_session_lifetime = timedelta(minutes=30)\n",
        "\n",
        "@app.route(\"/\")\n",
        "def index():\n",
        "    if \"username\" in session:\n",
        "        return f\"Logged in as {session['username']}\"\n",
        "    return \"You are not logged in\"\n",
        "\n",
        "@app.route(\"/login\", methods=[\"GET\", \"POST\"])\n",
        "def login():\n",
        "    if request.method == \"POST\":\n",
        "        session[\"username\"] = request.form[\"username\"]\n",
        "        session.permanent = True  # Mark session as permanent\n",
        "        return redirect(url_for(\"index\"))\n",
        "    return \"\"\"\n",
        "        <form method=\"post\">\n",
        "            <input type=\"text\" name=\"username\" placeholder=\"Username\">\n",
        "            <button type=\"submit\">Log in</button>\n",
        "        </form>\n",
        "    \"\"\"\n",
        "\n",
        "@app.route(\"/logout\")\n",
        "def logout():\n",
        "    session.pop(\"username\", None)\n",
        "    return redirect(url_for(\"index\"))\n",
        "\n",
        "if __name__ == \"__main__\":\n",
        "    app.run(debug=True)"
      ]
    },
    {
      "cell_type": "code",
      "execution_count": null,
      "metadata": {
        "colab": {
          "base_uri": "https://localhost:8080/"
        },
        "id": "Ck5hdX1s3yf-",
        "outputId": "0e32ab22-7b9b-48e7-feba-2bef04e1492d"
      },
      "outputs": [
        {
          "name": "stdout",
          "output_type": "stream",
          "text": [
            " * Serving Flask app '__main__'\n",
            " * Debug mode: on\n"
          ]
        },
        {
          "name": "stderr",
          "output_type": "stream",
          "text": [
            "INFO:werkzeug:\u001b[31m\u001b[1mWARNING: This is a development server. Do not use it in a production deployment. Use a production WSGI server instead.\u001b[0m\n",
            " * Running on http://127.0.0.1:5000\n",
            "INFO:werkzeug:\u001b[33mPress CTRL+C to quit\u001b[0m\n",
            "INFO:werkzeug: * Restarting with stat\n"
          ]
        }
      ],
      "source": [
        "# Ques 9. How do you redirect to a different route in Flask?\n",
        "\n",
        "# Solution 9.\n",
        "\n",
        "from flask import Flask, redirect\n",
        "\n",
        "# instance of flask application\n",
        "app = Flask(__name__)\n",
        "\n",
        "# home route that redirects to\n",
        "# helloworld page\n",
        "@app.route(\"/\")\n",
        "def home():\n",
        "    return redirect(\"/helloworld\")\n",
        "\n",
        "# route that returns hello world text\n",
        "@app.route(\"/helloworld\")\n",
        "def hello_world():\n",
        "    return \"<p>Hello, World from \\\n",
        "                redirected page.!</p>\"\n",
        "\n",
        "\n",
        "if __name__ == '__main__':\n",
        "    app.run(debug=True)"
      ]
    },
    {
      "cell_type": "code",
      "execution_count": null,
      "metadata": {
        "colab": {
          "base_uri": "https://localhost:8080/"
        },
        "id": "Bc21uM9y32Yp",
        "outputId": "8d60a73b-5abb-4742-a1c2-215de8ed41e1"
      },
      "outputs": [
        {
          "name": "stdout",
          "output_type": "stream",
          "text": [
            "402789647337170867317246136356926989705094239074925347176343710340368450911027649612636252695456374205280468598807393254690298539867803367460225153499614535588421928591160833678742451354915921252299285456946271396995850437959540645019696372741142787347450281325324373824456300226871609431497826989489109522725791691167945698509282421538632966523376679891823696900982075223188279465194065489111498586522997573307838057934994706212934291477882221464914058745808179795130018969175605739824237247684512790169648013778158661520384916357285547219660337504067910087936301580874662367543921288988208261944834178369169805682489420504038334529389177845089679546075023305854006141256288633820079940395329251563788399404652902154519302928365169452383531030755684578503851488154092323576150311569325891190105926118761607100286827930472944913272420825078912158741589850136017030887975452922434889688775883386977825215904423682478943313806072144097432418695807412571292308739802481089407002523955080148184062810447564594783139830113821372260474145316521647368313934670783858482781506915288378941348078689691815657785305896912277993200639858696294199549107738635599538328374931258525869323348477334798827676297868823693023377418942304272267800509765805435653787530370118261219994752588866451072715583785495394684524593296728611334955079882857173250037068541860372512693170819259309411027837176612444692649174536429745421086287708588130082168792750697158901737130221751430550976429258055277255676893874108456870904122902259417224707137723406125811549952159629766771063079472679280213882978523785424760309678138268708239764925768714349554665438389311198715040908077757086900159389712443987670244241787904585093011546861502058550090914877900852701619648229332192401075747543562989953271508977501771085759521631427816116191761031257454497039673414248149210836002497114107565960458576525212556159634975715552638678172137468172843066451093984443636560722213668172225585711566558134467392654185460222589723312097599987253417831473939565071006344352518096564427781204200068323913056897090916602712260306869786107237077572445866572945760977721639408338430009976028970539150822336553856613962747814621747092348996915755983464741082000337526945990059365493439921937093368896754791416759604324895514660325913157843796039917819613717350380997781225472000000000000000000000000000000000000000000000000000000000000000000000000000000000000000000000000000000000000000000000000000000000000000000000000000000000000000000000000000000000000000000000000000000000000000000000000000000000000000000000000000000000\n",
            " * Serving Flask app '__main__'\n",
            " * Debug mode: off\n"
          ]
        },
        {
          "name": "stderr",
          "output_type": "stream",
          "text": [
            "INFO:werkzeug:\u001b[31m\u001b[1mWARNING: This is a development server. Do not use it in a production deployment. Use a production WSGI server instead.\u001b[0m\n",
            " * Running on all addresses (0.0.0.0)\n",
            " * Running on http://127.0.0.1:5000\n",
            " * Running on http://172.28.0.12:5000\n",
            "INFO:werkzeug:\u001b[33mPress CTRL+C to quit\u001b[0m\n"
          ]
        }
      ],
      "source": [
        "# Ques 10. How do you handle errors in Flask (e.g., 404)?\n",
        "\n",
        "# Solution 10.\n",
        "\n",
        "from flask import Flask, render_template\n",
        "\n",
        "app = Flask(__name__)\n",
        "\n",
        "@app.errorhandler(404)\n",
        "def not_found(e):\n",
        "  return render_template(\"404.html\")\n",
        "\n",
        "def factorial_recursive_with_base_case(n):\n",
        "    # Base case: when n is 0, return 1\n",
        "    if n == 0:\n",
        "        return 1\n",
        "\n",
        "    # Recursive call\n",
        "    return n * factorial_recursive_with_base_case(n - 1)\n",
        "\n",
        "import sys\n",
        "\n",
        "sys.setrecursionlimit(10**6)\n",
        "\n",
        "def fact(n):\n",
        "  if(n == 0):\n",
        "    return 1\n",
        "  return n * fact(n - 1)\n",
        "\n",
        "if __name__ == '__main__':\n",
        "  f = 1001\n",
        "  print(fact(f))\n",
        "app.run(host=\"0.0.0.0\")"
      ]
    },
    {
      "cell_type": "markdown",
      "metadata": {
        "id": "nwyYIUluqJ3E"
      },
      "source": [
        "templates\n",
        "\n",
        "1. 404.html\n",
        "\n",
        "{% extends \"header.html\" %}\n",
        "\n",
        "{% block title %}Page Not Found{% endblock %}\n",
        "\n",
        "{% block body %}\n",
        "<h1>Oops! Looks like the page doesnt exist anymore</h1>\n",
        "<p id=\"pageInfo\">Redirecting to Home Page after 5 seconds...</p>\n",
        " <script>\n",
        "    var seconds = 5;\n",
        "    var url = \"{{ url_for('index') }}\";\n",
        "    function redirect() {\n",
        "        if (seconds <= 0) {\n",
        "            window.location = url;\n",
        "        } else {\n",
        "            seconds--;\n",
        "            document.getElementById(\"pageInfo\").innerHTML = \"Redirecting to Home Page after \" + seconds + \" seconds.\";\n",
        "            setTimeout(redirect, 1000);\n",
        "        }\n",
        "    }\n",
        "    window.onload = redirect;\n",
        "</script>\n",
        "{% endblock %}"
      ]
    },
    {
      "cell_type": "code",
      "source": [
        "# Ques 11. How do you structure a Flask app using Blueprints?\n",
        "\n",
        "# Solution 11.\n",
        "\n",
        "!pip install flask-blueprint\n",
        "import functools\n",
        "from flask import Flask\n",
        "from flask import Blueprint, flash, g, redirect, render_template, request, session, url_for\n",
        "from . import auth\n",
        "app.register_blueprint(auth.bp)\n",
        "from Blueprints.auth import auth_bp\n",
        "from blueprints.users import users_bp\n",
        "\n",
        "\n",
        "\n",
        "app = Flask(__name__)\n",
        "\n",
        "app.register_blueprint(auth_bp, url_prefix='/auth')\n",
        "app.register_blueprint(users_bp, url_prefix='/users')\n",
        "\n",
        "if __name__ == '__main__':\n",
        "  app.run(host=\"0.0.0.0\")"
      ],
      "metadata": {
        "colab": {
          "base_uri": "https://localhost:8080/",
          "height": 395
        },
        "id": "pC9mBgiTWxSq",
        "outputId": "700a980f-bec6-491d-e386-25589913f146"
      },
      "execution_count": null,
      "outputs": [
        {
          "output_type": "stream",
          "name": "stdout",
          "text": [
            "Requirement already satisfied: flask-blueprint in /usr/local/lib/python3.11/dist-packages (1.3.0)\n"
          ]
        },
        {
          "output_type": "error",
          "ename": "ImportError",
          "evalue": "attempted relative import with no known parent package",
          "traceback": [
            "\u001b[0;31m---------------------------------------------------------------------------\u001b[0m",
            "\u001b[0;31mImportError\u001b[0m                               Traceback (most recent call last)",
            "\u001b[0;32m<ipython-input-8-1832bf54f635>\u001b[0m in \u001b[0;36m<cell line: 0>\u001b[0;34m()\u001b[0m\n\u001b[1;32m      7\u001b[0m \u001b[0;32mfrom\u001b[0m \u001b[0mflask\u001b[0m \u001b[0;32mimport\u001b[0m \u001b[0mFlask\u001b[0m\u001b[0;34m\u001b[0m\u001b[0;34m\u001b[0m\u001b[0m\n\u001b[1;32m      8\u001b[0m \u001b[0;32mfrom\u001b[0m \u001b[0mflask\u001b[0m \u001b[0;32mimport\u001b[0m \u001b[0mBlueprint\u001b[0m\u001b[0;34m,\u001b[0m \u001b[0mflash\u001b[0m\u001b[0;34m,\u001b[0m \u001b[0mg\u001b[0m\u001b[0;34m,\u001b[0m \u001b[0mredirect\u001b[0m\u001b[0;34m,\u001b[0m \u001b[0mrender_template\u001b[0m\u001b[0;34m,\u001b[0m \u001b[0mrequest\u001b[0m\u001b[0;34m,\u001b[0m \u001b[0msession\u001b[0m\u001b[0;34m,\u001b[0m \u001b[0murl_for\u001b[0m\u001b[0;34m\u001b[0m\u001b[0;34m\u001b[0m\u001b[0m\n\u001b[0;32m----> 9\u001b[0;31m \u001b[0;32mfrom\u001b[0m \u001b[0;34m.\u001b[0m \u001b[0;32mimport\u001b[0m \u001b[0mauth\u001b[0m\u001b[0;34m\u001b[0m\u001b[0;34m\u001b[0m\u001b[0m\n\u001b[0m\u001b[1;32m     10\u001b[0m \u001b[0mapp\u001b[0m\u001b[0;34m.\u001b[0m\u001b[0mregister_blueprint\u001b[0m\u001b[0;34m(\u001b[0m\u001b[0mauth\u001b[0m\u001b[0;34m.\u001b[0m\u001b[0mbp\u001b[0m\u001b[0;34m)\u001b[0m\u001b[0;34m\u001b[0m\u001b[0;34m\u001b[0m\u001b[0m\n\u001b[1;32m     11\u001b[0m \u001b[0;32mfrom\u001b[0m \u001b[0mBlueprints\u001b[0m\u001b[0;34m.\u001b[0m\u001b[0mauth\u001b[0m \u001b[0;32mimport\u001b[0m \u001b[0mauth_bp\u001b[0m\u001b[0;34m\u001b[0m\u001b[0;34m\u001b[0m\u001b[0m\n",
            "\u001b[0;31mImportError\u001b[0m: attempted relative import with no known parent package",
            "",
            "\u001b[0;31m---------------------------------------------------------------------------\u001b[0;32m\nNOTE: If your import is failing due to a missing package, you can\nmanually install dependencies using either !pip or !apt.\n\nTo view examples of installing some common dependencies, click the\n\"Open Examples\" button below.\n\u001b[0;31m---------------------------------------------------------------------------\u001b[0m\n"
          ],
          "errorDetails": {
            "actions": [
              {
                "action": "open_url",
                "actionText": "Open Examples",
                "url": "/notebooks/snippets/importing_libraries.ipynb"
              }
            ]
          }
        }
      ]
    },
    {
      "cell_type": "code",
      "source": [
        "# blueprints/auth.py\n",
        "\n",
        "from flask import Blueprint\n",
        "\n",
        "auth_bp = Blueprint('auth', __name__, template_folder='templates')\n",
        "\n",
        "@auth_bp.route('/login')\n",
        "def login():\n",
        "  return \"Login Page\"\n",
        "\n",
        "@auth_bp.route('/logout')\n",
        "def logout():\n",
        "  return \"Logout Successful\"\n",
        "\n",
        "app.run()"
      ],
      "metadata": {
        "id": "uG_u5iKKWJ91"
      },
      "execution_count": null,
      "outputs": []
    },
    {
      "cell_type": "code",
      "source": [
        "# blueprints/users.py\n",
        "\n",
        "\n",
        "from flask import Blueprint\n",
        "\n",
        "users_bp = Blueprint('users', __name__, template_folder='templates')\n",
        "\n",
        "@users_bp.route('/profile')\n",
        "def profile():\n",
        "  return \"User Profile\"\n",
        "\n",
        "app.run()\n"
      ],
      "metadata": {
        "id": "PKRxxX_zWOvD"
      },
      "execution_count": null,
      "outputs": []
    },
    {
      "cell_type": "code",
      "execution_count": null,
      "metadata": {
        "id": "nGutQpTS3_Ba",
        "colab": {
          "base_uri": "https://localhost:8080/"
        },
        "outputId": "c443b1b8-327a-4e52-f941-511fc03190b6"
      },
      "outputs": [
        {
          "output_type": "stream",
          "name": "stdout",
          "text": [
            "Requirement already satisfied: jinja2 in /usr/local/lib/python3.11/dist-packages (3.1.6)\n",
            "Requirement already satisfied: MarkupSafe>=2.0 in /usr/local/lib/python3.11/dist-packages (from jinja2) (3.0.2)\n",
            " * Serving Flask app '__main__'\n",
            " * Debug mode: off\n"
          ]
        },
        {
          "output_type": "stream",
          "name": "stderr",
          "text": [
            "INFO:werkzeug:\u001b[31m\u001b[1mWARNING: This is a development server. Do not use it in a production deployment. Use a production WSGI server instead.\u001b[0m\n",
            " * Running on all addresses (0.0.0.0)\n",
            " * Running on http://127.0.0.1:5000\n",
            " * Running on http://172.28.0.12:5000\n",
            "INFO:werkzeug:\u001b[33mPress CTRL+C to quit\u001b[0m\n"
          ]
        }
      ],
      "source": [
        "# Ques 12. How do you define a custom Jinja filter in Flask?\n",
        "\n",
        "# Solution 12.\n",
        "\n",
        "!pip install jinja2\n",
        "\n",
        "from flask import Flask\n",
        "\n",
        "app = Flask(__name__)\n",
        "\n",
        "def reverse_string(s):\n",
        "  return s[::-1]\n",
        "\n",
        "app.jinja_env.filters['reverse'] = reverse_string\n",
        "\n",
        "\n",
        "if __name__=='__main__':\n",
        "  app.run(host=\"0.0.0.0\")\n",
        "\n"
      ]
    },
    {
      "cell_type": "code",
      "execution_count": null,
      "metadata": {
        "colab": {
          "background_save": true,
          "base_uri": "https://localhost:8080/"
        },
        "id": "9qxJeJV74Cbd",
        "outputId": "348ccf39-75fd-47f4-bfbb-4ad0e0724955"
      },
      "outputs": [
        {
          "name": "stdout",
          "output_type": "stream",
          "text": [
            " * Serving Flask app '__main__'\n",
            " * Debug mode: on\n"
          ]
        },
        {
          "name": "stderr",
          "output_type": "stream",
          "text": [
            "INFO:werkzeug:\u001b[31m\u001b[1mWARNING: This is a development server. Do not use it in a production deployment. Use a production WSGI server instead.\u001b[0m\n",
            " * Running on http://127.0.0.1:5000\n",
            "INFO:werkzeug:\u001b[33mPress CTRL+C to quit\u001b[0m\n",
            "INFO:werkzeug: * Restarting with stat\n"
          ]
        }
      ],
      "source": [
        "# Ques 13. How can you redirect with query parameters in Flask?\n",
        "\n",
        "# Solution 13.\n",
        "\n",
        "\n",
        "from flask import Flask, redirect, url_for, request\n",
        "\n",
        "\n",
        "app = Flask(__name__)\n",
        "\n",
        "@app.route('/')\n",
        "def index():\n",
        "    return '''<form action=\"/goto\" method=\"POST\">\n",
        "            <input name=\"username\">\n",
        "            <input type=\"submit\" value=\"Go\">\n",
        "        </form>'''\n",
        "\n",
        "@app.route('/goto', methods=['POST'])\n",
        "def login_post():\n",
        "    username = request.form.get('username')\n",
        "    if username is None or username == '':\n",
        "        return redirect(url_for('user_page_central'))\n",
        "    return redirect(url_for('user_page', name = username))\n",
        "\n",
        "@app.route('/user/')\n",
        "def user_page_central():\n",
        "    return 'List of users'\n",
        "\n",
        "@app.route('/user/<name>')\n",
        "def user_page(name):\n",
        "    return f'Page of {name}'\n",
        "\n",
        "app.run(host=\"0.0.0.0\")"
      ]
    },
    {
      "cell_type": "code",
      "execution_count": null,
      "metadata": {
        "id": "ZidDelNE4HEI",
        "colab": {
          "base_uri": "https://localhost:8080/"
        },
        "outputId": "3c584b9f-4fa7-4d0e-a1e1-4176e6d7370b"
      },
      "outputs": [
        {
          "metadata": {
            "tags": null
          },
          "name": "stdout",
          "output_type": "stream",
          "text": [
            " * Serving Flask app '__main__'\n",
            " * Debug mode: off\n"
          ]
        },
        {
          "metadata": {
            "tags": null
          },
          "name": "stderr",
          "output_type": "stream",
          "text": [
            "INFO:werkzeug:\u001b[31m\u001b[1mWARNING: This is a development server. Do not use it in a production deployment. Use a production WSGI server instead.\u001b[0m\n",
            " * Running on all addresses (0.0.0.0)\n",
            " * Running on http://127.0.0.1:5000\n",
            " * Running on http://172.28.0.12:5000\n",
            "INFO:werkzeug:\u001b[33mPress CTRL+C to quit\u001b[0m\n"
          ]
        }
      ],
      "source": [
        "# Ques 14. How do you return JSON responses in Flask?\n",
        "\n",
        "# Solution 14.\n",
        "\n",
        "\n",
        "from flask import Flask, jsonify\n",
        "\n",
        "\n",
        "app =   Flask(__name__)\n",
        "\n",
        "@app.route('/summary')\n",
        "def summary():\n",
        "    data = make_summary()\n",
        "    response = app.response_class(\n",
        "        response=json.dumps(data),\n",
        "        status=200,\n",
        "        mimetype='application/json'\n",
        "    )\n",
        "    return response\n",
        "\n",
        "if __name__=='__main__':\n",
        "    app.run(host=\"0.0.0.0\")"
      ]
    },
    {
      "cell_type": "code",
      "source": [
        "api =   Api(app)\n",
        "\n",
        "class returnjson(Resource):\n",
        "    def get(self):\n",
        "        data={\n",
        "            \"Modules\": 15,\n",
        "            \"Subject\": \"Data Structures and Algorithms\"\n",
        "        }\n",
        "        return data\n",
        "\n",
        "api.add_resource(returnjson,'/returnjson')"
      ],
      "metadata": {
        "id": "Xy7Nlv39ShbO"
      },
      "execution_count": null,
      "outputs": []
    },
    {
      "cell_type": "code",
      "execution_count": null,
      "metadata": {
        "id": "0Im1JAFY4K9A",
        "colab": {
          "base_uri": "https://localhost:8080/"
        },
        "outputId": "e9d86d39-929b-4e04-897e-3cd1ec9d07b7"
      },
      "outputs": [
        {
          "output_type": "stream",
          "name": "stdout",
          "text": [
            " * Serving Flask app '__main__'\n",
            " * Debug mode: off\n"
          ]
        },
        {
          "output_type": "stream",
          "name": "stderr",
          "text": [
            "INFO:werkzeug:\u001b[31m\u001b[1mWARNING: This is a development server. Do not use it in a production deployment. Use a production WSGI server instead.\u001b[0m\n",
            " * Running on all addresses (0.0.0.0)\n",
            " * Running on http://127.0.0.1:5000\n",
            " * Running on http://172.28.0.12:5000\n",
            "INFO:werkzeug:\u001b[33mPress CTRL+C to quit\u001b[0m\n"
          ]
        }
      ],
      "source": [
        "# Ques 15. How do you capture URL parameters in Flask?\n",
        "\n",
        "# Solution 15.\n",
        "\n",
        "\n",
        "from flask import Flask, request\n",
        "\n",
        "app = Flask(__name__)\n",
        "\n",
        "@app.route(\"/\", methods = [\"GET\"])\n",
        "def get_info():\n",
        "    username = request.args.get(\"username\")\n",
        "    age = request.args.get(\"age\")\n",
        "\n",
        "    return f\" Hello this is homepage : {username}, this is my age : {age}\"\n",
        "\n",
        "if __name__ == '__main__':\n",
        "    app.run(host=\"0.0.0.0\")"
      ]
    }
  ],
  "metadata": {
    "colab": {
      "provenance": []
    },
    "kernelspec": {
      "display_name": "Python 3",
      "name": "python3"
    },
    "language_info": {
      "name": "python"
    }
  },
  "nbformat": 4,
  "nbformat_minor": 0
}